{
 "cells": [
  {
   "cell_type": "code",
   "execution_count": 2,
   "metadata": {
    "collapsed": false
   },
   "outputs": [],
   "source": [
    "from PIL import Image\n",
    "cat_pic = Image.open('data/cc_cat.png')\n",
    "cat_pic.show()"
   ]
  },
  {
   "cell_type": "code",
   "execution_count": 8,
   "metadata": {
    "collapsed": false
   },
   "outputs": [
    {
     "ename": "NameError",
     "evalue": "name 'top' is not defined",
     "output_type": "error",
     "traceback": [
      "\u001b[0;31m---------------------------------------------------------------------------\u001b[0m",
      "\u001b[0;31mNameError\u001b[0m                                 Traceback (most recent call last)",
      "\u001b[0;32m<ipython-input-8-2706d65bf422>\u001b[0m in \u001b[0;36m<module>\u001b[0;34m()\u001b[0m\n\u001b[1;32m      5\u001b[0m     \u001b[0mtop_edge\u001b[0m \u001b[0;34m=\u001b[0m \u001b[0;36m1\u001b[0m \u001b[0;34m+\u001b[0m \u001b[0mslice_height\u001b[0m\u001b[0;34m\u001b[0m\u001b[0m\n\u001b[1;32m      6\u001b[0m     \u001b[0mbottom_edge\u001b[0m \u001b[0;34m=\u001b[0m \u001b[0mtop_edge\u001b[0m \u001b[0;34m+\u001b[0m \u001b[0mslice_height\u001b[0m\u001b[0;34m\u001b[0m\u001b[0m\n\u001b[0;32m----> 7\u001b[0;31m     \u001b[0mslice_box\u001b[0m \u001b[0;34m=\u001b[0m \u001b[0;34m(\u001b[0m\u001b[0mleft_edge\u001b[0m\u001b[0;34m,\u001b[0m\u001b[0mtop\u001b[0m\u001b[0;34m,\u001b[0m\u001b[0mleft_edge\u001b[0m\u001b[0;34m+\u001b[0m\u001b[0mwidth\u001b[0m\u001b[0;34m,\u001b[0m\u001b[0mbottom\u001b[0m\u001b[0;34m)\u001b[0m\u001b[0;34m\u001b[0m\u001b[0m\n\u001b[0m\u001b[1;32m      8\u001b[0m     \u001b[0mcat_slice\u001b[0m \u001b[0;34m=\u001b[0m \u001b[0mcat_pic\u001b[0m\u001b[0;34m.\u001b[0m\u001b[0mcrop\u001b[0m\u001b[0;34m(\u001b[0m\u001b[0mslice_box\u001b[0m\u001b[0;34m)\u001b[0m\u001b[0;34m\u001b[0m\u001b[0m\n\u001b[1;32m      9\u001b[0m     \u001b[0mrot_cat_slice\u001b[0m \u001b[0;34m=\u001b[0m \u001b[0mcat\u001b[0m\u001b[0;34m.\u001b[0m\u001b[0mslice\u001b[0m\u001b[0;34m.\u001b[0m\u001b[0mrotate\u001b[0m\u001b[0;34m(\u001b[0m\u001b[0;36m180\u001b[0m\u001b[0;34m)\u001b[0m\u001b[0;34m\u001b[0m\u001b[0m\n",
      "\u001b[0;31mNameError\u001b[0m: name 'top' is not defined"
     ]
    }
   ],
   "source": [
    "slice_height = int(cat_pic.size[1] / 10)\n",
    "for horizontal_slice in range(5):\n",
    "    left_edge = 0\n",
    "    right_edge = cat_pic.size[0]\n",
    "    top_edge = 1 + slice_height\n",
    "    bottom_edge = top_edge + slice_height\n",
    "    slice_box = (left_edge,top,left_edge+width,bottom)\n",
    "    cat_slice = cat_pic.crop(slice_box)\n",
    "    rot_cat_slice = cat.slice.rotate(180)\n",
    "    tri_cat = cat_pic.paste(rot_cat_slice,slice_box)\n",
    "cat_pic.show()"
   ]
  },
  {
   "cell_type": "code",
   "execution_count": 9,
   "metadata": {
    "collapsed": false
   },
   "outputs": [
    {
     "ename": "SyntaxError",
     "evalue": "invalid syntax (<ipython-input-9-380e431c7886>, line 2)",
     "output_type": "error",
     "traceback": [
      "\u001b[0;36m  File \u001b[0;32m\"<ipython-input-9-380e431c7886>\"\u001b[0;36m, line \u001b[0;32m2\u001b[0m\n\u001b[0;31m    top_edge = horizontal_slice + slice_height\u001b[0m\n\u001b[0m           ^\u001b[0m\n\u001b[0;31mSyntaxError\u001b[0m\u001b[0;31m:\u001b[0m invalid syntax\n"
     ]
    }
   ],
   "source": [
    "\n",
    "\n",
    "\n",
    "mirror_cat = Image.new('RGB'), (cat_pic.size(0,0), cat_pic.size[0]\n",
    "                                top_edge = horizontal_slice + slice_height\n",
    "                                bottom_edge = top_edge, right_edge, bottom_edge)\n",
    "#grabthecurrentslice\n",
    "cat_slice = cat_pic.crop(slice_box)\n",
    "#rotatethecurrentslice\n",
    "rot_cat_slice = cat_slice.rotate(180)\n",
    "#flipthecurrentslice\n",
    "flip_cat_slice = cat_slice.transpose(Image.FLIP_TOP_BOTTOM)\n",
    "#paste the flipped slice in the right part of the new image\n",
    "mirror_cat.paste(flip_cat_alice, slice_box)\n",
    "slice_box = (right_edge, top_edge, right_ednge*2,bottom_edge)\n",
    "mirror_cat.paste(flip_cat_slice,slice_box)\n",
    "mirror_cat.show()"
   ]
  },
  {
   "cell_type": "code",
   "execution_count": null,
   "metadata": {
    "collapsed": true
   },
   "outputs": [],
   "source": []
  }
 ],
 "metadata": {
  "kernelspec": {
   "display_name": "Python 3",
   "language": "python",
   "name": "python3"
  },
  "language_info": {
   "codemirror_mode": {
    "name": "ipython",
    "version": 3
   },
   "file_extension": ".py",
   "mimetype": "text/x-python",
   "name": "python",
   "nbconvert_exporter": "python",
   "pygments_lexer": "ipython3",
   "version": "3.5.1"
  }
 },
 "nbformat": 4,
 "nbformat_minor": 0
}
